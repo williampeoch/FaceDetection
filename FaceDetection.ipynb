{
 "cells": [
  {
   "cell_type": "code",
   "execution_count": 1,
   "metadata": {},
   "outputs": [],
   "source": [
    "import os\n",
    "import time\n",
    "import uuid\n",
    "import cv2"
   ]
  },
  {
   "cell_type": "code",
   "execution_count": 2,
   "metadata": {},
   "outputs": [],
   "source": [
    "IMAGES_PATH = os.path.join('data', 'images')\n",
    "number__images = 30"
   ]
  },
  {
   "cell_type": "code",
   "execution_count": 4,
   "metadata": {},
   "outputs": [
    {
     "name": "stdout",
     "output_type": "stream",
     "text": [
      "Collecting images 0\n",
      "Collecting images 1\n",
      "Collecting images 2\n",
      "Collecting images 3\n",
      "Collecting images 4\n",
      "Collecting images 5\n",
      "Collecting images 6\n",
      "Collecting images 7\n",
      "Collecting images 8\n",
      "Collecting images 9\n",
      "Collecting images 10\n",
      "Collecting images 11\n",
      "Collecting images 12\n",
      "Collecting images 13\n",
      "Collecting images 14\n",
      "Collecting images 15\n",
      "Collecting images 16\n",
      "Collecting images 17\n",
      "Collecting images 18\n",
      "Collecting images 19\n",
      "Collecting images 20\n",
      "Collecting images 21\n",
      "Collecting images 22\n",
      "Collecting images 23\n",
      "Collecting images 24\n",
      "Collecting images 25\n",
      "Collecting images 26\n",
      "Collecting images 27\n",
      "Collecting images 28\n",
      "Collecting images 29\n"
     ]
    }
   ],
   "source": [
    "cap = cv2.VideoCapture(0)\n",
    "for imgnum in range(number__images):\n",
    "    print(f\"Collecting images {imgnum}\")\n",
    "    ret, frame = cap.read()\n",
    "    imgname = os.path.join(IMAGES_PATH, f\"{str(uuid.uuid1())}.jpg\")\n",
    "    cv2.imwrite(imgname, frame)\n",
    "    cv2.imshow('frame', frame)\n",
    "    time.sleep(0.5)\n",
    "\n",
    "    if cv2.waitKey(1) & 0xFF == ord(\"q\"):\n",
    "        break\n",
    "\n",
    "cap.release()\n",
    "cv2.destroyAllWindows()"
   ]
  }
 ],
 "metadata": {
  "kernelspec": {
   "display_name": "Python 3 (ipykernel)",
   "language": "python",
   "name": "python3"
  },
  "language_info": {
   "codemirror_mode": {
    "name": "ipython",
    "version": 3
   },
   "file_extension": ".py",
   "mimetype": "text/x-python",
   "name": "python",
   "nbconvert_exporter": "python",
   "pygments_lexer": "ipython3",
   "version": "3.10.14"
  }
 },
 "nbformat": 4,
 "nbformat_minor": 4
}
